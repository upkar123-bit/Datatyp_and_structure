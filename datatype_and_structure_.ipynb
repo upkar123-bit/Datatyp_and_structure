{
  "nbformat": 4,
  "nbformat_minor": 0,
  "metadata": {
    "colab": {
      "provenance": []
    },
    "kernelspec": {
      "name": "python3",
      "display_name": "Python 3"
    },
    "language_info": {
      "name": "python"
    }
  },
  "cells": [
    {
      "cell_type": "code",
      "execution_count": null,
      "metadata": {
        "id": "ZR9M0cPuULfS"
      },
      "outputs": [],
      "source": []
    },
    {
      "cell_type": "markdown",
      "source": [
        "NAME : UPKAR\n",
        "COURSE NAME : DEVOPS AND CLOUD COMPUTING\n",
        "ASSIGNMENT : Data Types and Structures Assignment Questions\n",
        "SUBMISSION DATE : 1TH OF JULY 2025"
      ],
      "metadata": {
        "id": "xMsLhuiRUUIC"
      }
    },
    {
      "cell_type": "markdown",
      "source": [
        "**What are data structures, and why are they important**"
      ],
      "metadata": {
        "id": "gKRJKC7NUl8x"
      }
    },
    {
      "cell_type": "markdown",
      "source": [
        "Data structures are specialized formats for organizing, storing, and accessing collections of data. They provide efficient ways to manage information based on its characteristics and intended use.\n",
        "* **why they are important**\n",
        " * Choosing a right data structure for your data will improve the efficiency and performance of your program\n",
        " * Optimize the searching and sorting operation\n",
        " * Optimize the memory usage"
      ],
      "metadata": {
        "id": "mt1RH-UuUu38"
      }
    },
    {
      "cell_type": "markdown",
      "source": [
        "**Explain the difference between mutable and immutable data types with examples**"
      ],
      "metadata": {
        "id": "YBw4qDBrWLNN"
      }
    },
    {
      "cell_type": "markdown",
      "source": [
        "1. Mutable objects are those object that allow modification once created\n",
        " * Modifying that object doesn't create a new object in the memory.\n",
        " * Mutable object are easy to access\n",
        " * For example : list, dict, set\n",
        "2. Immutable objects are those object that don't allow modification after the creation\n",
        " * Modifying immutable object create a new object in the memory\n",
        " * Immutable object are not easy to access\n",
        " * For example : int , float , tuple , str."
      ],
      "metadata": {
        "id": "1u3Oexv4WOvi"
      }
    },
    {
      "cell_type": "markdown",
      "source": [
        "** What are the main differences between lists and tuples in Python3**"
      ],
      "metadata": {
        "id": "o0aMMPzSWp4h"
      }
    },
    {
      "cell_type": "markdown",
      "source": [
        "The difference between list and tuples is :    \n",
        "* List\n",
        " 1. List is ordered\n",
        " 2. List are mutable , you can change the element\n",
        " 3. List consume more memory\n",
        " 4. List has several build in methods\n",
        " 5. List are better on performing operation like insertion and deletion\n",
        "  \n",
        "* Tuple\n",
        " 1. Tuple is unordered, modification is not possible  \n",
        " 2. Tuple are immutable , you can't change the element\n",
        " 3. Tuple consume less memory\n",
        " 4. List has less build in methods\n",
        " 5. Tuple are more suitable for accessing the element efficiently\n",
        "\n",
        "\n"
      ],
      "metadata": {
        "id": "XOl570UFWuRf"
      }
    },
    {
      "cell_type": "markdown",
      "source": [
        "** Describe how dictionaries store data**"
      ],
      "metadata": {
        "id": "vlh3b2Ufbu8Q"
      }
    },
    {
      "cell_type": "markdown",
      "source": [
        "Dictionary is another data structure which store the elements in key value pair . It is ordered and immutable which means you cannot modify it .\n",
        "They provide a secure way to store data that shouldn't be modified"
      ],
      "metadata": {
        "id": "VZIQ7P7Xbzba"
      }
    },
    {
      "cell_type": "code",
      "source": [
        "my_dict = {\"Name\": \"upkar\" , \"Address\": \"Nyay khand\",\"Age\":23 }"
      ],
      "metadata": {
        "id": "SiYOMtYfccPY"
      },
      "execution_count": null,
      "outputs": []
    },
    {
      "cell_type": "markdown",
      "source": [
        "** Why might you use a set instead of a list in Python**"
      ],
      "metadata": {
        "id": "vwPmKugYc4kj"
      }
    },
    {
      "cell_type": "markdown",
      "source": [
        "In some case using set is preferred better than using a list , when you want to store some data that need to be unique should put in set , which cover your goal for having distinct data.\n",
        "Sets provide faster membership testing (checking if an item exists) compared to lists"
      ],
      "metadata": {
        "id": "-gBORHKXc8tN"
      }
    },
    {
      "cell_type": "markdown",
      "source": [
        "**What is a string in Python, and how is it different from a list**\n"
      ],
      "metadata": {
        "id": "MusO9x_Aejik"
      }
    },
    {
      "cell_type": "markdown",
      "source": [
        "String in python, is a sequence of character and characters are arranged in unchangeable order.\n",
        "* python treat everything as a string if enclosed between quotes\n",
        "* Strings can be created using either single (') or double (\") quotes\n",
        "1. strings and list are two different things in python, Lists can hold items of various data types but string contain only characters\n",
        "2. list can be perform insertion and deletion operation whereas in strings it is not possible"
      ],
      "metadata": {
        "id": "m1Bw5Ku8epqT"
      }
    },
    {
      "cell_type": "markdown",
      "source": [
        "**How do tuples ensure data integrity in Python**\n",
        "\n",
        "\n"
      ],
      "metadata": {
        "id": "_MttYdyQ7ygr"
      }
    },
    {
      "cell_type": "markdown",
      "source": [
        "In python ,Tuples ensure data intergrity through their immutaiblilty, which means that once the data is created that cannot be modify.This property plays a essential role in maintaining the consistency and security of the data throughout the program."
      ],
      "metadata": {
        "id": "8Cv8sPOQ82VZ"
      }
    },
    {
      "cell_type": "code",
      "source": [
        "my_tuple = (1,2,3,4)\n",
        "my_tuple[0]=5\n",
        "#this will show type error"
      ],
      "metadata": {
        "id": "wsmPQ_TM-Vtd"
      },
      "execution_count": null,
      "outputs": []
    },
    {
      "cell_type": "markdown",
      "source": [
        "**What is a hash table, and how does it relate to dictionaries in Python**"
      ],
      "metadata": {
        "id": "qllOdIAJ-ef7"
      }
    },
    {
      "cell_type": "markdown",
      "source": [
        "Hash table is a data structure that maps the key with the value using a hash function. It provides fast access, insertion, and deletion operations.  Python’s dictionary uses hash tables internally, enabling efficient key-based lookups, updates, and removals in most practical scenarios."
      ],
      "metadata": {
        "id": "2DF01oIE-k04"
      }
    },
    {
      "cell_type": "markdown",
      "source": [
        "**Can lists contain different data types in Python**"
      ],
      "metadata": {
        "id": "VI83NTHi_xeM"
      }
    },
    {
      "cell_type": "markdown",
      "source": [
        "Yes list can contain different data types . As list is a collection of ordered and multiple datatype element , a list can contain string , interger, boolean ,complex , float data type,list ,tuple , dictionary,set"
      ],
      "metadata": {
        "id": "rDvIH5NSAqgF"
      }
    },
    {
      "cell_type": "code",
      "source": [
        "my_list = [1,2,3,4.4,(6+7j),\"upkar\",true,(1,2)]"
      ],
      "metadata": {
        "id": "isYFY6nmBCDM"
      },
      "execution_count": null,
      "outputs": []
    },
    {
      "cell_type": "markdown",
      "source": [
        "**Explain why strings are immutable in Python**"
      ],
      "metadata": {
        "id": "j4OTAUGTBMYa"
      }
    },
    {
      "cell_type": "markdown",
      "source": [
        "String is immutable means once created, it cannot be changed.Any operation that appear to change it actually creates a new string\n"
      ],
      "metadata": {
        "id": "Fk295PrLCDJd"
      }
    },
    {
      "cell_type": "code",
      "source": [
        "s= \"Upkar\"\n",
        "s[0]=\"l\" #is not possible ,error str is obj cannot assgin another value"
      ],
      "metadata": {
        "id": "aEaubXilCrtj"
      },
      "execution_count": null,
      "outputs": []
    },
    {
      "cell_type": "markdown",
      "source": [
        "**What advantages do dictionaries offer over lists for certain tasks**"
      ],
      "metadata": {
        "id": "sd9SacTJC63R"
      }
    },
    {
      "cell_type": "markdown",
      "source": [
        "The advantage that dictionaries offer more over lists are :   \n",
        "1. * Dictionary : Fast access using keys , average O(1) time\n",
        "   * List : Requires linear search to find an element O(n) time.\n",
        "2. *Dictionary : It allow meaningfull keys like (\"name\" , \"age\") making the code more readable\n",
        "   * List: It store the number which make the code less interative\n"
      ],
      "metadata": {
        "id": "Q62KaqPJD_8O"
      }
    },
    {
      "cell_type": "markdown",
      "source": [
        "**Describe a scenario where using a tuple would be preferable over a list**"
      ],
      "metadata": {
        "id": "8jcoXW1YSiqD"
      }
    },
    {
      "cell_type": "markdown",
      "source": [
        "list and tuple are two different data structure in python but somewhere list is different from tuple as tuple are immutable which means once created cannot be changed .If you want to store some data that need not to be changed come under tuple. Suppose you want to store the latitude and longitude of a location."
      ],
      "metadata": {
        "id": "2bwRmfMCStm9"
      }
    },
    {
      "cell_type": "markdown",
      "source": [
        "**How do sets handle duplicate values in Python**"
      ],
      "metadata": {
        "id": "VYXEq2xRVG0b"
      }
    },
    {
      "cell_type": "markdown",
      "source": [
        "In python , set remove duplicate item or element automatically. A set is an unordered collection of unique elements, meaning no duplicates are allowed. Set use hashing to store element , before adding an element pyhton checks for hash value if value already present that number will not be added."
      ],
      "metadata": {
        "id": "AEffz1SxWPVd"
      }
    },
    {
      "cell_type": "markdown",
      "source": [
        "**How does the “in” keyword work differently for lists and dictionaries**"
      ],
      "metadata": {
        "id": "XRVcjzSIXpjm"
      }
    },
    {
      "cell_type": "markdown",
      "source": [
        "The In keyword is used to check for membership but it works different with different datatype\n",
        "* In list the IN keywords searches for the particular element from the start to the end of the list untill the item is not found\n",
        "* In dictionary the IN keywords searches for the particular value from the key value instead of searching from the starting .  "
      ],
      "metadata": {
        "id": "Dn3n8jGoX8QZ"
      }
    },
    {
      "cell_type": "markdown",
      "source": [],
      "metadata": {
        "id": "e-fchn-1Y0Kt"
      }
    },
    {
      "cell_type": "markdown",
      "source": [
        "**Can you modify the elements of a tuple? Explain why or why not**"
      ],
      "metadata": {
        "id": "BbTbCwU1Y3yM"
      }
    },
    {
      "cell_type": "markdown",
      "source": [
        "No modifying the tuple element is not possible as tuple is immutable which means once the tuple is created cannot be changed, you cannot add, remove, or change elements in a tuple"
      ],
      "metadata": {
        "id": "dPd_vEFSZF_X"
      }
    },
    {
      "cell_type": "markdown",
      "source": [
        "**What is a nested dictionary, and give an example of its use case**"
      ],
      "metadata": {
        "id": "ME2raIZybT4b"
      }
    },
    {
      "cell_type": "markdown",
      "source": [
        "A nested dictionary is a dictionary within a dictionary. It allows you to represent hierarchical or structured data using key-value pairs, where the value itself is another dictionary."
      ],
      "metadata": {
        "id": "aS-SNiCybxbf"
      }
    },
    {
      "cell_type": "code",
      "source": [
        "student = {\"classA\":{\"name\":\"upkar\", \"age\":23} \"classB\":{\"name\":\"Abhi\", \"age\":22}    }"
      ],
      "metadata": {
        "id": "SBPBGJ7hdFEx"
      },
      "execution_count": null,
      "outputs": []
    },
    {
      "cell_type": "markdown",
      "source": [
        "**Describe the time complexity of accessing elements in a dictionary**"
      ],
      "metadata": {
        "id": "JAZyToiwd8WL"
      }
    },
    {
      "cell_type": "markdown",
      "source": [
        "The time complexity of accessing element in a dictionary is O(1) time"
      ],
      "metadata": {
        "id": "hpgJqNrDeJfI"
      }
    },
    {
      "cell_type": "markdown",
      "source": [
        "**In what situations are lists preferred over dictionaries**"
      ],
      "metadata": {
        "id": "zIOWeOaxeUo5"
      }
    },
    {
      "cell_type": "markdown",
      "source": [
        "Whille dictionary is powerfull for key value storage but in some cases list is preferred than dict, in case of ordered and index based data is needed.\n",
        "* Use list where data order matters .\n",
        "* When you need to loop through list (for i in my_list)\n",
        "* List support slicing and indexing which dictionary doesn't support.\n",
        "* List maintain the duplicate value properly where as dictionary does not maintain duplicate value ."
      ],
      "metadata": {
        "id": "0EiSjffcfKCU"
      }
    },
    {
      "cell_type": "markdown",
      "source": [
        "**Why are dictionaries considered unordered, and how does that affect data**\n",
        "**retrieval**"
      ],
      "metadata": {
        "id": "PeWQ6OODmjs1"
      }
    },
    {
      "cell_type": "markdown",
      "source": [
        "Dictionaries are considered to be unordered as the dictionary store data in key value pair unlike list and tuple .\n",
        "* But data retrieval from dictionary is not possible in a ordered form. Data retrieval can be done using key value pair. Accessing a data from indexing is not possible but can be done using keys.  "
      ],
      "metadata": {
        "id": "weK4bZKrmwpL"
      }
    },
    {
      "cell_type": "markdown",
      "source": [
        "**Explain the difference between a list and a dictionary in terms of data retrieval**"
      ],
      "metadata": {
        "id": "nriXo4GepWSC"
      }
    },
    {
      "cell_type": "markdown",
      "source": [
        "The difference betwee a list and a dictionary is :     \n",
        "* List : The list is an ordered collection of different data type.\n",
        "* Dictionary : The dictinary store key value pair.\n",
        "\n",
        "* List : You can retrieve data through indexing .\n",
        "* Dict : you can retrieve data through keys.\n",
        "\n",
        "* list : list can store all data structure(List, Tuple, Sets)\n",
        "* Dict : Dict can't store ."
      ],
      "metadata": {
        "id": "RKn8kUD8pjIG"
      }
    },
    {
      "cell_type": "markdown",
      "source": [
        "**Practical Questions**"
      ],
      "metadata": {
        "id": "Zf4TczgnvWkJ"
      }
    },
    {
      "cell_type": "markdown",
      "source": [
        "**Write a code to create a string with your name and print it**"
      ],
      "metadata": {
        "id": "g_5QaPmAvfFG"
      }
    },
    {
      "cell_type": "code",
      "source": [
        "my_name = \"Upkar\"\n",
        "print(my_name)"
      ],
      "metadata": {
        "id": "NzGgDVsFvprE"
      },
      "execution_count": null,
      "outputs": []
    },
    {
      "cell_type": "markdown",
      "source": [
        "**Write a code to find the length of the string \"Hello World\"**"
      ],
      "metadata": {
        "id": "L4W71l3_wFYM"
      }
    },
    {
      "cell_type": "code",
      "source": [
        "my_name = \"Hello World\"\n",
        "print(len.my_name)"
      ],
      "metadata": {
        "id": "E0VCmK2_wKCA"
      },
      "execution_count": 1,
      "outputs": []
    },
    {
      "cell_type": "markdown",
      "source": [
        "**Write a code to slice the first 3 characters from the string \"Python Programming\"**"
      ],
      "metadata": {
        "id": "EQtA0X-2wYIN"
      }
    },
    {
      "cell_type": "code",
      "source": [
        "my_name = \"Python Programming\"\n",
        "print(slice[:3])"
      ],
      "metadata": {
        "id": "N4prVs1Owc6u"
      },
      "execution_count": null,
      "outputs": []
    },
    {
      "cell_type": "markdown",
      "source": [
        "**Write a code to convert the string \"hello\" to uppercase**"
      ],
      "metadata": {
        "id": "jreM_iCNxnMy"
      }
    },
    {
      "cell_type": "code",
      "source": [
        "my_string = \"hello\"\n",
        "print(my_string.upper())"
      ],
      "metadata": {
        "id": "3ojqME8Extxx"
      },
      "execution_count": null,
      "outputs": []
    },
    {
      "cell_type": "markdown",
      "source": [
        "** Write a code to replace the word \"apple\" with \"orange\" in the string \"I like apple\"**"
      ],
      "metadata": {
        "id": "zjyUhftkx_q4"
      }
    },
    {
      "cell_type": "code",
      "source": [
        "my_string= \"i like apple\"\n",
        "print(my_string.replace(\"apple\",\"orange\"))"
      ],
      "metadata": {
        "id": "ZaOYbBeZyErW"
      },
      "execution_count": null,
      "outputs": []
    },
    {
      "cell_type": "markdown",
      "source": [
        "**Write a code to create a list with numbers 1 to 5 and print it**"
      ],
      "metadata": {
        "id": "T954L6AVy5ns"
      }
    },
    {
      "cell_type": "code",
      "source": [
        "my_list= [1,2,3,4,5]\n",
        "print(my_list)"
      ],
      "metadata": {
        "id": "rov_Qao0y_mH"
      },
      "execution_count": null,
      "outputs": []
    },
    {
      "cell_type": "markdown",
      "source": [
        "**Write a code to append the number 10 to the list [1, 2, 3, 4]**"
      ],
      "metadata": {
        "id": "Vjit81jzz22w"
      }
    },
    {
      "cell_type": "code",
      "source": [
        "list1=[1,2,3,4]\n",
        "print(list1.append(10))\n"
      ],
      "metadata": {
        "id": "4aU8jIE8z6jG"
      },
      "execution_count": null,
      "outputs": []
    },
    {
      "cell_type": "markdown",
      "source": [
        "**Write a code to remove the number 3 from the list [1, 2, 3, 4, 5]**"
      ],
      "metadata": {
        "id": "E0SdKiDB0f48"
      }
    },
    {
      "cell_type": "code",
      "source": [
        "list1=[1,2,3,4,5]\n",
        "print(list1.remove(3))"
      ],
      "metadata": {
        "id": "T_ptnwQn0j3A"
      },
      "execution_count": null,
      "outputs": []
    },
    {
      "cell_type": "markdown",
      "source": [
        "**Write a code to access the second element in the list ['a', 'b', 'c', 'd']**"
      ],
      "metadata": {
        "id": "hcHbcLEM06NE"
      }
    },
    {
      "cell_type": "code",
      "source": [
        "list1=['a','b','c','d']\n",
        "print(list1[1])"
      ],
      "metadata": {
        "id": "uvdlODOc0_ZJ"
      },
      "execution_count": null,
      "outputs": []
    },
    {
      "cell_type": "markdown",
      "source": [
        "**Write a code to reverse the list [10, 20, 30, 40, 50]**"
      ],
      "metadata": {
        "id": "WhZOY5pP1LrS"
      }
    },
    {
      "cell_type": "code",
      "source": [
        "list1=[10,20,30,40,50]\n",
        "print(list1.reverse())"
      ],
      "metadata": {
        "id": "Svi-S9Sx2CUC"
      },
      "execution_count": null,
      "outputs": []
    },
    {
      "cell_type": "markdown",
      "source": [
        "**Write a code to create a tuple with the elements 100, 200, 300 and print it**"
      ],
      "metadata": {
        "id": "IF0Jc1yj2h3G"
      }
    },
    {
      "cell_type": "code",
      "source": [
        "my_tuple=(100,200,300)\n",
        "print(my_tuple)"
      ],
      "metadata": {
        "id": "7ufqw2-V3Uvf"
      },
      "execution_count": null,
      "outputs": []
    },
    {
      "cell_type": "markdown",
      "source": [
        "**Write a code to access the second-to-last element of the tuple ('red', 'green', 'blue', 'yellow').**"
      ],
      "metadata": {
        "id": "0Tf7cyGe3wqO"
      }
    },
    {
      "cell_type": "code",
      "source": [
        "my_tuple=('red', 'green', 'blue', 'yellow')\n",
        "print(my_tuple.slice[1:])"
      ],
      "metadata": {
        "id": "rUrOygIo30Bb"
      },
      "execution_count": null,
      "outputs": []
    },
    {
      "cell_type": "markdown",
      "source": [
        "**Write a code to find the minimum number in the tuple (10, 20, 5, 15)**"
      ],
      "metadata": {
        "id": "sD0Dn5Wh4RaL"
      }
    },
    {
      "cell_type": "code",
      "source": [
        "my_tuple = (10,20,5,15)\n",
        "print(my_tuple.Min())"
      ],
      "metadata": {
        "id": "qGKWuVSm4dfF"
      },
      "execution_count": null,
      "outputs": []
    },
    {
      "cell_type": "markdown",
      "source": [
        "**Write a code to find the index of the element \"cat\" in the tuple ('dog', 'cat', 'rabbit')**"
      ],
      "metadata": {
        "id": "bULNTD6L5By0"
      }
    },
    {
      "cell_type": "code",
      "source": [
        "my_tuple = ('dog', 'cat', 'rabbit')\n",
        "for i in my_tuple :\n",
        "  if i == 'cat'\n",
        "    print(i)"
      ],
      "metadata": {
        "id": "IhespYPJ5IbC"
      },
      "execution_count": null,
      "outputs": []
    },
    {
      "cell_type": "markdown",
      "source": [
        "**Write a code to create a tuple containing three different fruits and check if \"kiwi\" is in it**"
      ],
      "metadata": {
        "id": "pxVljYBZ5ccX"
      }
    },
    {
      "cell_type": "code",
      "source": [
        "my_tuple=(\"apple\",\"mango\",\"graphes\")\n",
        "print(\"kiwi\" in my_tuple)"
      ],
      "metadata": {
        "id": "URVJcz8S70HA"
      },
      "execution_count": null,
      "outputs": []
    },
    {
      "cell_type": "markdown",
      "source": [
        "**Write a code to create a set with the elements 'a', 'b', 'c' and print it.**"
      ],
      "metadata": {
        "id": "trhNcFUq8Wvu"
      }
    },
    {
      "cell_type": "code",
      "source": [
        "my_set = {'a','b','c'}\n",
        "print(my_set)"
      ],
      "metadata": {
        "id": "r1yYzH3x89Sx"
      },
      "execution_count": null,
      "outputs": []
    },
    {
      "cell_type": "markdown",
      "source": [
        "**Write a code to clear all elements from the set {1, 2, 3, 4, 5}**"
      ],
      "metadata": {
        "id": "v19gon0Q9IxX"
      }
    },
    {
      "cell_type": "code",
      "source": [
        "my_set={1,2,3,4,5}\n",
        "print(my_set.clear())"
      ],
      "metadata": {
        "id": "BuqF-TKD9Pny"
      },
      "execution_count": null,
      "outputs": []
    },
    {
      "cell_type": "markdown",
      "source": [
        "**Write a code to remove the element 4 from the set {1, 2, 3, 4}**"
      ],
      "metadata": {
        "id": "oMokkcFL9X86"
      }
    },
    {
      "cell_type": "code",
      "source": [
        "my_set={1,2,3,4}\n",
        "print(my_set.remove(4))"
      ],
      "metadata": {
        "id": "OVEKOvt89b8T"
      },
      "execution_count": null,
      "outputs": []
    },
    {
      "cell_type": "markdown",
      "source": [
        "**Write a code to find the union of two sets {1, 2, 3} and {3, 4, 5}**"
      ],
      "metadata": {
        "id": "mxsFMUpi9gey"
      }
    },
    {
      "cell_type": "code",
      "source": [
        "my_set = {1,2,3}\n",
        "my_set2={3,4,5}\n",
        "print(my_set.union(my_set2))"
      ],
      "metadata": {
        "id": "n7CtBFqy9lfP"
      },
      "execution_count": null,
      "outputs": []
    },
    {
      "cell_type": "markdown",
      "source": [
        "**Write a code to find the intersection of two sets {1, 2, 3} and {2, 3, 4}.**"
      ],
      "metadata": {
        "id": "YNJzuqSb-A8I"
      }
    },
    {
      "cell_type": "code",
      "source": [
        "my_set = {1,2,3}\n",
        "my_set2={2,3,4}\n",
        "print(my_set.intersection(my_set2))"
      ],
      "metadata": {
        "id": "JEoYCpFp-JkG"
      },
      "execution_count": null,
      "outputs": []
    },
    {
      "cell_type": "markdown",
      "source": [
        "**Write a code to create a dictionary with the keys \"name\", \"age\", and \"city\", and print it**"
      ],
      "metadata": {
        "id": "-YZNVUqa-RAt"
      }
    },
    {
      "cell_type": "code",
      "source": [
        "my_dict={\"name\":\"upkar\",\"age\":23,\"city\":\"mumbai\"}\n",
        "print(my_dict)"
      ],
      "metadata": {
        "id": "qAHE3nzf-Vgh"
      },
      "execution_count": null,
      "outputs": []
    },
    {
      "cell_type": "markdown",
      "source": [
        "**Write a code to add a new key-value pair \"country\": \"USA\" to the dictionary {'name': 'John', 'age': 25}**"
      ],
      "metadata": {
        "id": "ArKiU5k1-Z4L"
      }
    },
    {
      "cell_type": "code",
      "source": [
        "my_dict={'name': 'John', 'age': 25}\n",
        "my_dict[\"country\"]=\"USA\""
      ],
      "metadata": {
        "id": "w-72AML8-cJv"
      },
      "execution_count": null,
      "outputs": []
    },
    {
      "cell_type": "markdown",
      "source": [
        "**Write a code to access the value associated with the key \"name\" in the dictionary {'name': 'Alice', 'age': 30}**"
      ],
      "metadata": {
        "id": "9e326Gy3-y6q"
      }
    },
    {
      "cell_type": "code",
      "source": [
        "my_dict={'name': 'Alice', 'age': 30}\n",
        "print(my_dict[\"name\"])"
      ],
      "metadata": {
        "id": "hog4oToI-27u"
      },
      "execution_count": null,
      "outputs": []
    },
    {
      "cell_type": "markdown",
      "source": [
        "**Write a code to remove the key \"age\" from the dictionary {'name': 'Bob', 'age': 22, 'city': 'New York'}**"
      ],
      "metadata": {
        "id": "bc3c5Gm0_LjG"
      }
    },
    {
      "cell_type": "code",
      "source": [
        "my_dict={'name': 'Bob', 'age': 22, 'city': 'New York'}\n",
        "print(my_dict.pop('age'))"
      ],
      "metadata": {
        "id": "cDfhZo7H_RpU"
      },
      "execution_count": null,
      "outputs": []
    },
    {
      "cell_type": "markdown",
      "source": [
        "**Write a code to check if the key \"city\" exists in the dictionary {'name': 'Alice', 'city': 'Paris'}**"
      ],
      "metadata": {
        "id": "65oCPLXo_xoG"
      }
    },
    {
      "cell_type": "code",
      "source": [
        "my_dict = {'name': 'Alice', 'city': 'Paris'}\n",
        "for i in my_dict\n",
        "  if my_dict(i) == 'city'\n",
        "    print(i)"
      ],
      "metadata": {
        "id": "tDNLEZYx_14u"
      },
      "execution_count": null,
      "outputs": []
    },
    {
      "cell_type": "markdown",
      "source": [
        "**Write a code to create a list, a tuple, and a dictionary, and print them all**"
      ],
      "metadata": {
        "id": "d3ibqVw6AVOR"
      }
    },
    {
      "cell_type": "code",
      "source": [
        "my_list=[1,2,3,4]\n",
        "my_tuple=(1,2,3,4,5)\n",
        "my_dict={'name': 'Alice', 'city': 'Paris'}\n",
        "print(my_dict)\n",
        "print(my_list)\n",
        "print(my_tuple)"
      ],
      "metadata": {
        "id": "FsUmEeC1AaPh"
      },
      "execution_count": null,
      "outputs": []
    },
    {
      "cell_type": "markdown",
      "source": [
        "**Write a code to create a list of 5 random numbers between 1 and 100, sort it in ascending order, and print the result(replaced)**         \n"
      ],
      "metadata": {
        "id": "eI-oniHvZOo3"
      }
    },
    {
      "cell_type": "code",
      "source": [
        "import random\n",
        "my_list=[random.randint(1,100) for i in range(5)]\n",
        "print(my_list.sort())"
      ],
      "metadata": {
        "id": "ZeJV0TjpZXOE"
      },
      "execution_count": null,
      "outputs": []
    },
    {
      "cell_type": "markdown",
      "source": [
        "**Write a code to create a list with strings and print the element at the third index**"
      ],
      "metadata": {
        "id": "B2DbNX-8bGxh"
      }
    },
    {
      "cell_type": "code",
      "source": [
        "my_list=[\"upkar\"]\n",
        "print(my_list[2])\n"
      ],
      "metadata": {
        "id": "KVhHCV3bbXHW"
      },
      "execution_count": null,
      "outputs": []
    },
    {
      "cell_type": "markdown",
      "source": [
        "**Write a code to combine two dictionaries into one and print the result**"
      ],
      "metadata": {
        "id": "7YH4StbXb1LB"
      }
    },
    {
      "cell_type": "code",
      "source": [
        "my_dict1 = {\"Name\": \"Upkar\",\"Age\":23,\"City\":\"Indirapuram\"}\n",
        "my_dict2 = {\"Name\": \"Abhi\",\"Age\":20,\"City\":\"Dehradun\"}\n",
        "final_dict = my_dict1.update(my_dict2)\n",
        "print(final_dict)"
      ],
      "metadata": {
        "id": "twSOaj33b5SQ"
      },
      "execution_count": null,
      "outputs": []
    },
    {
      "cell_type": "markdown",
      "source": [
        "**Write a code to convert a list of strings into a set.**"
      ],
      "metadata": {
        "id": "JnPRK0lEcdHX"
      }
    },
    {
      "cell_type": "code",
      "source": [
        "my_list=[\"upkar\",\"abhi\",\"sam\"]\n",
        "my_set = set(my_list)\n",
        "print(my_set)"
      ],
      "metadata": {
        "id": "UnzaeycvchNj"
      },
      "execution_count": null,
      "outputs": []
    }
  ]
}